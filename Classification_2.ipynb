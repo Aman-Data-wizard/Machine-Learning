{
  "cells": [
    {
      "cell_type": "markdown",
      "metadata": {
        "id": "view-in-github",
        "colab_type": "text"
      },
      "source": [
        "<a href=\"https://colab.research.google.com/github/Aman-Data-wizard/Machine-Learning/blob/main/Classification_2.ipynb\" target=\"_parent\"><img src=\"https://colab.research.google.com/assets/colab-badge.svg\" alt=\"Open In Colab\"/></a>"
      ]
    },
    {
      "cell_type": "code",
      "execution_count": null,
      "metadata": {
        "id": "ECcINoOuG3to"
      },
      "outputs": [],
      "source": [
        "!pip install vaderSentiment --quiet\n"
      ]
    },
    {
      "cell_type": "code",
      "execution_count": null,
      "metadata": {
        "colab": {
          "base_uri": "https://localhost:8080/"
        },
        "id": "XBYHn_sxHv5Q",
        "outputId": "503150c7-0231-4711-ac83-31a209f25b26"
      },
      "outputs": [
        {
          "name": "stdout",
          "output_type": "stream",
          "text": [
            "First:  {'neg': 0.0, 'neu': 0.417, 'pos': 0.583, 'compound': 0.6369}\n",
            "second:  {'neg': 0.552, 'neu': 0.448, 'pos': 0.0, 'compound': -0.5719}\n"
          ]
        }
      ],
      "source": [
        "# Aman Lal ERP Id: 0231bca008\n",
        "from vaderSentiment.vaderSentiment import SentimentIntensityAnalyzer\n",
        "analyser = SentimentIntensityAnalyzer()\n",
        "comment = \"I Love this product\"\n",
        "comment1 = \"I hate this product\"\n",
        "result = analyser.polarity_scores(comment)\n",
        "result1 = analyser.polarity_scores(comment1)\n",
        "print(\"First: \", result)\n",
        "print(\"second: \", result1)"
      ]
    },
    {
      "cell_type": "code",
      "execution_count": null,
      "metadata": {
        "colab": {
          "background_save": true,
          "base_uri": "https://localhost:8080/"
        },
        "id": "3C0sU7CwMySy",
        "outputId": "01d7911a-841d-4e36-8b6f-685974e3c522"
      },
      "outputs": [
        {
          "name": "stdout",
          "output_type": "stream",
          "text": [
            "Result:  {'neg': 0.0, 'neu': 0.545, 'pos': 0.455, 'compound': 0.3612}\n",
            "Result:  {'neg': 0.0, 'neu': 0.545, 'pos': 0.455, 'compound': 0.3612}\n",
            "Result:  {'neg': 0.0, 'neu': 0.417, 'pos': 0.583, 'compound': 0.6369}\n",
            "Result:  {'neg': 0.0, 'neu': 0.417, 'pos': 0.583, 'compound': 0.6369}\n"
          ]
        }
      ],
      "source": [
        "def result(comment):\n",
        "  analyser = SentimentIntensityAnalyzer()\n",
        "  result = analyser.polarity_scores(comment)\n",
        "  print(\"Result: \", result)\n",
        "while True:\n",
        "  comment = input(\"Enter a comment: \")\n",
        "  result(comment)\n",
        "  if comment == \"stop\":\n",
        "    break\n",
        "  result(comment)"
      ]
    }
  ],
  "metadata": {
    "colab": {
      "provenance": [],
      "authorship_tag": "ABX9TyNyrTlKQBWTODXJZuvRvmP9",
      "include_colab_link": true
    },
    "kernelspec": {
      "display_name": "Python 3",
      "name": "python3"
    },
    "language_info": {
      "name": "python"
    }
  },
  "nbformat": 4,
  "nbformat_minor": 0
}