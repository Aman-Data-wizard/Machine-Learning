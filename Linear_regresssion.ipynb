{
  "nbformat": 4,
  "nbformat_minor": 0,
  "metadata": {
    "colab": {
      "provenance": [],
      "authorship_tag": "ABX9TyMmUNoDq8/Dzg4OthhXv/Av",
      "include_colab_link": true
    },
    "kernelspec": {
      "name": "python3",
      "display_name": "Python 3"
    },
    "language_info": {
      "name": "python"
    }
  },
  "cells": [
    {
      "cell_type": "markdown",
      "metadata": {
        "id": "view-in-github",
        "colab_type": "text"
      },
      "source": [
        "<a href=\"https://colab.research.google.com/github/Aman-Data-wizard/Machine-Learning/blob/main/Linear_regresssion.ipynb\" target=\"_parent\"><img src=\"https://colab.research.google.com/assets/colab-badge.svg\" alt=\"Open In Colab\"/></a>"
      ]
    },
    {
      "cell_type": "code",
      "execution_count": null,
      "metadata": {
        "id": "NeaTSmW9vdjf"
      },
      "outputs": [],
      "source": [
        "from sklearn.linear_model import LinearRegression\n",
        "import numpy as np"
      ]
    },
    {
      "cell_type": "code",
      "source": [
        "cgpa = np.array([[1], [2], [3], [4]])\n",
        "salary = np.array([2,4,6,8])\n",
        "model = LinearRegression()\n",
        "model.fit(cgpa, salary)\n",
        "while True:\n",
        "  new_cgpa = int(input(\"Enter a cgpa to predict: \"))\n",
        "  if new_cgpa == 0:\n",
        "    print(\"Invalid input!\")\n",
        "    break\n",
        "predict = model.predict([[new_cgpa]])\n",
        "print(\"Salary: \", predict)"
      ],
      "metadata": {
        "colab": {
          "base_uri": "https://localhost:8080/"
        },
        "id": "9uExAcIDvp_M",
        "outputId": "32f242c7-e91f-4419-8ecd-62332d47dcac"
      },
      "execution_count": null,
      "outputs": [
        {
          "output_type": "stream",
          "name": "stdout",
          "text": [
            "Enter a cgpa to predict: 3\n",
            "Enter a cgpa to predict: 6\n",
            "Enter a cgpa to predict: 0\n",
            "Invalid input!\n",
            "Salary:  [0.]\n"
          ]
        }
      ]
    }
  ]
}