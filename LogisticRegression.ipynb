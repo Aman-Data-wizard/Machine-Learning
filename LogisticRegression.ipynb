{
  "nbformat": 4,
  "nbformat_minor": 0,
  "metadata": {
    "colab": {
      "provenance": [],
      "authorship_tag": "ABX9TyMSX9Ld7jaEdKdjjMcWJrLX",
      "include_colab_link": true
    },
    "kernelspec": {
      "name": "python3",
      "display_name": "Python 3"
    },
    "language_info": {
      "name": "python"
    }
  },
  "cells": [
    {
      "cell_type": "markdown",
      "metadata": {
        "id": "view-in-github",
        "colab_type": "text"
      },
      "source": [
        "<a href=\"https://colab.research.google.com/github/Aman-Data-wizard/Machine-Learning/blob/main/LogisticRegression.ipynb\" target=\"_parent\"><img src=\"https://colab.research.google.com/assets/colab-badge.svg\" alt=\"Open In Colab\"/></a>"
      ]
    },
    {
      "cell_type": "code",
      "execution_count": null,
      "metadata": {
        "id": "pc5vLag9iTio"
      },
      "outputs": [],
      "source": [
        "import numpy as np\n",
        "from sklearn.linear_model import LogisticRegression\n"
      ]
    },
    {
      "cell_type": "code",
      "source": [
        "fish = np.array([\n",
        "    [200,60], #Salmon Fish (length, width)\n",
        "    [300,50],\n",
        "    [250,700],\n",
        "    [100, 40], #Cat Fish (length, width)\n",
        "    [70,30],\n",
        "    [90,30]\n",
        "    ])\n",
        "label = np.array([1,1,1,0,0,0])\n",
        "model = LogisticRegression()\n",
        "model.fit(fish, label)\n",
        "while True:\n",
        "  new_length = int(input(\"Enter length: \"))\n",
        "  new_width = int(input(\"Enter width: \"))\n",
        "  predict = model.predict([[new_length, new_width]])\n",
        "  if new_length == 0 or new_width == 0:\n",
        "    print(\"Invalid input\")\n",
        "    break\n",
        "  if predict[0] == 0:\n",
        "    print(\"Fish is catfish: \", predict)\n",
        "  else:\n",
        "    print(\"Fish is salmonfish: \", predict)"
      ],
      "metadata": {
        "colab": {
          "base_uri": "https://localhost:8080/"
        },
        "id": "-Qluj8tnkabr",
        "outputId": "f65d3894-9fdb-436c-e8cb-af6416808e9c"
      },
      "execution_count": null,
      "outputs": [
        {
          "output_type": "stream",
          "name": "stdout",
          "text": [
            "Enter length: 0\n",
            "Enter width: 0\n",
            "Invalid input\n"
          ]
        }
      ]
    }
  ]
}